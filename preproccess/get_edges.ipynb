{
 "cells": [
  {
   "cell_type": "code",
   "execution_count": null,
   "id": "d4f92aec",
   "metadata": {},
   "outputs": [],
   "source": [
    "import pandas as pd  \n",
    "import numpy as np\n",
    "import math\n",
    "from ete3 import NCBITaxa                     \n",
    "ncbi = NCBITaxa()  \n",
    "ncbi.update_taxonomy_database()   "
   ]
  },
  {
   "cell_type": "code",
   "execution_count": null,
   "id": "1647d809",
   "metadata": {},
   "outputs": [],
   "source": [
    "MicroPd = pd.read_excel('../data/Disbiome/microbe_list.xlsx',header=None )\n",
    "MicroPd.columns = ['num_id', 'M_name']"
   ]
  },
  {
   "cell_type": "code",
   "execution_count": null,
   "id": "7b8e97bd",
   "metadata": {},
   "outputs": [],
   "source": [
    "def find_ncbi_id(name):\n",
    "        ncbi_id = ncbi.get_name_translator([name])\n",
    "        if ncbi_id=={}:\n",
    "            return 0\n",
    "        else:\n",
    "            return list(ncbi_id.values())[0][0]\n",
    "def find_lineage(ncbi_id):\n",
    "        ncbi_lineage = ncbi.get_lineage(ncbi_id)\n",
    "        if ncbi_lineage==None:\n",
    "            return 0\n",
    "        else:\n",
    "            return ncbi_lineage\n",
    "MicroPd['ncbi_id'] = MicroPd.apply(lambda x : find_ncbi_id(x.M_name), axis=1)\n",
    "MicroPd['lineage'] = MicroPd.apply(lambda x : find_lineage(x.ncbi_id), axis=1)\n",
    "higher = []\n",
    "lower = []\n",
    "for i in range(len(MicroPd)):\n",
    "    lower_tax_id = MicroPd.iloc[i, 2]\n",
    "    if lower_tax_id == 0:\n",
    "        continue\n",
    "    lower_id = MicroPd.iloc[i, 0]\n",
    "    lineage = MicroPd.iloc[i, 3]\n",
    "    for j in range((len(lineage) - 2), -1, -1):\n",
    "        next_point = lineage[j]\n",
    "        if next_point in list(MicroPd['ncbi_id']):\n",
    "            higher.append(int(MicroPd[MicroPd['ncbi_id']==next_point]['num_id']))\n",
    "            lower.append(lower_id)\n",
    "            break\n",
    "ha = list(np.arange(0,1042))\n",
    "la = list(np.arange(0,1042))\n",
    "higher_sl = higher + ha\n",
    "lower_sl = lower + la\n",
    "selfLoop_tree = pd.DataFrame(data={'higher' : higher_sl, 'lower' : lower_sl})"
   ]
  },
  {
   "cell_type": "code",
   "execution_count": null,
   "id": "e0921c6d",
   "metadata": {},
   "outputs": [],
   "source": [
    "base_init = pd.DataFrame(data = {'micro_A' : np.zeros(1085764), 'micro_B' : np.zeros(1085764)})\n",
    "for i in range(1042):\n",
    "    for j in range(1042):\n",
    "        base_init.iloc[(i*1042)+j][0] = i\n",
    "        base_init.iloc[(i*1042)+j][1] = j\n",
    "def get_tax_id(num_id, MicroPd):\n",
    "    tax_id = int(MicroPd[MicroPd['num_id']==num_id]['ncbi_id'])\n",
    "    return tax_id\n",
    "base_init['A_tax_id'] = base_init.apply(lambda x : get_tax_id(x.micro_A, MicroPd), axis=1)\n",
    "base_init['B_tax_id'] = base_init.apply(lambda x : get_tax_id(x.micro_B, MicroPd), axis=1)"
   ]
  },
  {
   "cell_type": "code",
   "execution_count": null,
   "id": "9f651e3e",
   "metadata": {},
   "outputs": [],
   "source": [
    "WP_init = base_init.copy(deep=True)\n",
    "def get_micro_depth(tax_id, MicroPd):\n",
    "    if tax_id==0:\n",
    "        return 0\n",
    "    else:\n",
    "        micro_depth = len(ncbi.get_lineage(tax_id))\n",
    "        return micro_depth   \n",
    "WP_init['A_depth'] = WP_init.apply(lambda x : get_micro_depth(x.A_tax_id, MicroPd), axis=1)\n",
    "WP_init['B_depth'] = WP_init.apply(lambda x : get_micro_depth(x.B_tax_id, MicroPd), axis=1)\n",
    "def get_common_ancestor_depth(A_tax_id, B_tax_id, tree):\n",
    "    if A_tax_id==0 or B_tax_id==0:\n",
    "        return 0\n",
    "    elif A_tax_id == B_tax_id:\n",
    "        return len(ncbi.get_lineage(A_tax_id))\n",
    "    else:\n",
    "        common_ancestor = tree.get_common_ancestor(str(int(A_tax_id)), str(int(B_tax_id)))\n",
    "        ca_tax_id = common_ancestor.taxid\n",
    "        ca_depth = len(ncbi.get_lineage(ca_tax_id))\n",
    "        return ca_depth\n",
    "tax_id_list = list(MicroPd[MicroPd['ncbi_id']!=0]['ncbi_id'])\n",
    "tree = ncbi.get_topology(tax_id_list)\n",
    "WP_init['CA_depth'] = WP_init.apply(lambda x : get_common_ancestor_depth(x.A_tax_id, x.B_tax_id,tree), axis=1)\n",
    "def get_WP(A_depth, B_depth, CA_depth):\n",
    "    if CA_depth==0:\n",
    "        return 0\n",
    "    else:\n",
    "        WP = (2*CA_depth)/(A_depth + B_depth)\n",
    "        return WP\n",
    "WP_init['WP'] = WP_init.apply(lambda x : get_WP(x.A_depth, x.B_depth, x.CA_depth), axis=1)"
   ]
  },
  {
   "cell_type": "code",
   "execution_count": null,
   "id": "54c955b2",
   "metadata": {},
   "outputs": [],
   "source": [
    "LC_init = base_init.copy(deep=True)\n",
    "def find_lineage_len(ncbi_id):\n",
    "        ncbi_lineage = ncbi.get_lineage(ncbi_id)\n",
    "        if ncbi_lineage==None:\n",
    "            return 0\n",
    "        else:\n",
    "            len_lineage = len(ncbi_lineage)\n",
    "            return len_lineage\n",
    "MicroPd['len_lineage'] = MicroPd.apply(lambda x : find_lineage_len(x.ncbi_id), axis=1)\n",
    "MicroPd"
   ]
  },
  {
   "cell_type": "code",
   "execution_count": null,
   "id": "9f972565",
   "metadata": {
    "scrolled": true
   },
   "outputs": [],
   "source": [
    "depth_num = int(MicroPd['len_lineage'].max())\n",
    "max_depth = depth_num\n",
    "tax_id_list = list(MicroPd[MicroPd['ncbi_id']!=0]['ncbi_id'])\n",
    "tree = ncbi.get_topology(tax_id_list)\n",
    "def get_dist(A_tax_id, B_tax_id, tree):\n",
    "    if A_tax_id==0 or B_tax_id==0:\n",
    "        return 99999\n",
    "    elif A_tax_id == B_tax_id:\n",
    "        return 0\n",
    "    else:\n",
    "        AB_dist = tree.get_distance(str(int(A_tax_id)), str(int(B_tax_id)))\n",
    "        return AB_dist\n",
    "LC_init['AB_dist'] = LC_init.apply(lambda x : get_dist(x.A_tax_id, x.B_tax_id, tree), axis=1)"
   ]
  },
  {
   "cell_type": "code",
   "execution_count": null,
   "id": "8c7bd51b",
   "metadata": {
    "scrolled": true
   },
   "outputs": [],
   "source": [
    "def get_LC(AB_dist, max_depth):\n",
    "    if AB_dist==99999:\n",
    "        return 0\n",
    "    else:\n",
    "        LC = 1 - ((math.log2(AB_dist + 1))/(math.log2((2 * max_depth) + 1)))\n",
    "        return LC\n",
    "LC_init['LC'] = LC_init.apply(lambda x : get_LC(x.AB_dist, max_depth), axis=1)"
   ]
  },
  {
   "cell_type": "code",
   "execution_count": null,
   "id": "ff679ae7",
   "metadata": {},
   "outputs": [],
   "source": [
    "N = len(MicroPd[MicroPd['ncbi_id']!=0])\n",
    "count_v_d = {}\n",
    "for i in range(1042):\n",
    "    v_list = MicroPd.iloc[i,3]\n",
    "    if v_list == 0:\n",
    "        continue\n",
    "    for j in range(len(v_list)):\n",
    "        if v_list[j] not in count_v_d.keys():\n",
    "            count_v_dict = count_v_d.update({v_list[j] : 1})\n",
    "        else:\n",
    "            count_v_d[v_list[j]] += 1"
   ]
  },
  {
   "cell_type": "code",
   "execution_count": null,
   "id": "d17bcf78",
   "metadata": {},
   "outputs": [],
   "source": [
    "Lin_init = base_init.copy(deep=True)\n",
    "def get_IC(tax_id, count_v_d, N):\n",
    "    if tax_id==0:\n",
    "        return 0\n",
    "    else:\n",
    "        count_v = count_v_d[tax_id]\n",
    "        pv = count_v / N\n",
    "        IC = -math.log2(pv)\n",
    "        return IC\n",
    "Lin_init['A_IC'] = Lin_init.apply(lambda x : get_IC(x.A_tax_id, count_v_d, N), axis=1)\n",
    "Lin_init['B_IC'] = Lin_init.apply(lambda x : get_IC(x.B_tax_id, count_v_d, N), axis=1)\n",
    "tax_id_list = list(MicroPd[MicroPd['ncbi_id']!=0]['ncbi_id'])\n",
    "tree = ncbi.get_topology(tax_id_list)\n",
    "def get_CA_IC(A_tax_id,B_tax_id, count_v_d, N, tree):\n",
    "    if A_tax_id==0 or B_tax_id==0:\n",
    "        return 0\n",
    "    elif A_tax_id == B_tax_id:\n",
    "        count_v = count_v_d[A_tax_id]\n",
    "        pv = count_v / N\n",
    "        A_IC = -math.log2(pv)\n",
    "        return A_IC\n",
    "    else:\n",
    "        common_ancestor = tree.get_common_ancestor(str(int(A_tax_id)), str(int(B_tax_id)))\n",
    "        ca_tax_id = common_ancestor.taxid\n",
    "        count_v = count_v_d[ca_tax_id]\n",
    "        pv = count_v / N\n",
    "        IC = -math.log2(pv)\n",
    "        return IC\n",
    "Lin_init['CA_IC'] = Lin_init.apply(lambda x : get_CA_IC(x.A_tax_id, x.B_tax_id, count_v_d, N, tree), axis=1)"
   ]
  },
  {
   "cell_type": "code",
   "execution_count": null,
   "id": "61935497",
   "metadata": {},
   "outputs": [],
   "source": [
    "JC_init = Lin_init.copy(deep=True)\n",
    "def get_Lin(A_IC, B_IC, CA_IC):\n",
    "    if A_IC==0 or B_IC==0 or CA_IC==0:\n",
    "        return 0\n",
    "    else:\n",
    "        sim = (2 * CA_IC) / (A_IC + B_IC)\n",
    "        return sim\n",
    "Lin_init['Lin'] = Lin_init.apply(lambda x : get_Lin(x.A_IC, x.B_IC, x.CA_IC), axis=1)"
   ]
  },
  {
   "cell_type": "code",
   "execution_count": null,
   "id": "f233a5a3",
   "metadata": {},
   "outputs": [],
   "source": [
    "def get_JC(A_IC, B_IC, CA_IC, la):\n",
    "    dist = (A_IC + B_IC) - (2 * CA_IC)\n",
    "    sim = math.exp(-(dist / la))\n",
    "    return sim\n",
    "JC_init['JC'] = JC_init.apply(lambda x : get_JC(x.A_IC, x.B_IC, x.CA_IC, la = 5), axis=1)"
   ]
  },
  {
   "cell_type": "code",
   "execution_count": null,
   "id": "45aa3d87",
   "metadata": {},
   "outputs": [],
   "source": [
    "WP_W = WP_init.drop(['A_tax_id','B_tax_id','A_depth', 'B_depth', 'CA_depth'], axis=1)\n",
    "LC_W = LC_init.drop(['A_tax_id','B_tax_id', 'AB_dist'], axis=1)\n",
    "Lin_W = Lin_init.drop(['A_tax_id','B_tax_id','A_IC', 'B_IC', 'CA_IC'], axis=1)\n",
    "JC_W = JC_init.drop(['A_tax_id','B_tax_id','A_IC', 'B_IC', 'CA_IC'], axis=1)\n",
    "selfLoop_tree.to_csv('../data/Disbiome/tree_edge.csv', index=False)\n",
    "LC_W.to_csv('../data/Disbiome/LC_edge.csv', index=False)\n",
    "WP_W.to_csv('../data/Disbiome/WP_edge.csv', index=False)\n",
    "Lin_W.to_csv('../data/Disbiome/Lin_edge.csv', index=False)\n",
    "JC_W.to_csv('../data/Disbiome/JC_edge.csv', index=False)"
   ]
  }
 ],
 "metadata": {
  "kernelspec": {
   "display_name": "Python 3 (ipykernel)",
   "language": "python",
   "name": "python3"
  },
  "language_info": {
   "codemirror_mode": {
    "name": "ipython",
    "version": 3
   },
   "file_extension": ".py",
   "mimetype": "text/x-python",
   "name": "python",
   "nbconvert_exporter": "python",
   "pygments_lexer": "ipython3",
   "version": "3.9.12"
  }
 },
 "nbformat": 4,
 "nbformat_minor": 5
}
