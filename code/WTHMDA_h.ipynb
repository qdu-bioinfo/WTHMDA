{
 "cells": [
  {
   "cell_type": "code",
   "execution_count": null,
   "metadata": {},
   "outputs": [],
   "source": [
    "import pandas as pd\n",
    "import datetime\n",
    "import random\n",
    "import numpy as np\n",
    "import math\n",
    "import copy\n",
    "import matplotlib.pyplot as plt\n",
    "import scipy.sparse as sp\n",
    "from tqdm import tqdm\n",
    "from collections import Counter\n",
    "from sklearn.model_selection import KFold\n",
    "from sklearn.metrics import roc_curve,auc\n",
    "from sklearn.model_selection import StratifiedKFold\n",
    "from sklearn.metrics import precision_recall_curve\n",
    "from sklearn.metrics import average_precision_score\n",
    "from scipy import interp\n",
    "import networkx as nx\n",
    "import dgl\n",
    "import dgl.nn as dglnn\n",
    "import dgl.function as fn\n",
    "import torch.nn as nn\n",
    "import torch.nn.functional as F\n",
    "import torch\n",
    "from torch.autograd import Variable\n",
    "import warnings\n",
    "warnings.filterwarnings('ignore')\n",
    "import sys\n",
    "sys.path.append(\"../\")    \n",
    "from utility.dataset_weighted_8e import Dataset\n",
    "from model.GraphConv import EdgeWeightNorm\n",
    "from model.GCN_Model_weighted_8e import RGCN\n",
    "from model.GCN_Model_weighted_8e import Model\n",
    "from model.run_f_weighted import train_f\n",
    "from model.run_f_weighted import valid_f\n",
    "from utility.evaluation2 import save_plot_auc\n",
    "from utility.evaluation2 import plot_auc\n",
    "from utility.evaluation2 import plot_prc_curve"
   ]
  },
  {
   "cell_type": "code",
   "execution_count": null,
   "metadata": {},
   "outputs": [],
   "source": [
    "def setup_seed(seed):              \n",
    "    torch.manual_seed(seed)\n",
    "    np.random.seed(seed)\n",
    "    random.seed(seed)\n",
    "    torch.backends.deterministic = True\n",
    "setup_seed(21)"
   ]
  },
  {
   "cell_type": "code",
   "execution_count": null,
   "metadata": {},
   "outputs": [],
   "source": [
    "dm_path = '../data/HMDAD/microbe_disease_edge.csv'\n",
    "mm_path = '../data/HMDAD/microbe_func_edge.csv'\n",
    "dd_path = '../data/HMDAD/disease_func_edge.csv'\n",
    "jc_path = '../data/HMDAD/JC_edge.csv'\n",
    "lc_path = '../data/HMDAD/LC_edge.csv'\n",
    "wp_path = '../data/HMDAD/WP_edge.csv'\n",
    "lin_path = '../data/HMDAD/Lin_edge.csv'\n",
    "rank_path = '../data/HMDAD/tree_edge.csv'\n",
    "disease_features_path = '../data/HMDAD/disease_feature.csv'\n",
    "microbe_features_path = '../data/HMDAD/microbe_feature.csv'\n",
    "etype = ('disease', 'relate', 'microbe')\n",
    "etype2 = ('microbe', 'relate-by', 'disease')\n",
    "n2p_rate = 1\n",
    "name = '../result/result_hmdad'"
   ]
  },
  {
   "cell_type": "code",
   "execution_count": null,
   "metadata": {},
   "outputs": [],
   "source": [
    "g_data = Dataset(dm_path, mm_path, dd_path, rank_path, disease_features_path, microbe_features_path)\n",
    "dmhg = g_data.build_graph()"
   ]
  },
  {
   "cell_type": "code",
   "execution_count": null,
   "metadata": {},
   "outputs": [],
   "source": [
    "mm = pd.read_csv(mm_path)\n",
    "dd = pd.read_csv(dd_path)\n",
    "jc = pd.read_csv(jc_path)\n",
    "lc = pd.read_csv(lc_path)\n",
    "wp = pd.read_csv(wp_path)\n",
    "lin = pd.read_csv(lin_path)\n",
    "mm_w = torch.Tensor(mm['weight'].values)\n",
    "mm_w = mm_w.reshape(85264, 1)\n",
    "jc_w = torch.Tensor(jc['JC'].values)\n",
    "jc_w = jc_w.reshape(85264, 1)\n",
    "lc_w = torch.Tensor(lc['LC'].values)\n",
    "lc_w = lc_w.reshape(85264, 1)\n",
    "wp_w = torch.Tensor(wp['WP'].values)\n",
    "wp_w = wp_w.reshape(85264, 1)\n",
    "lin_w = torch.Tensor(lin['Lin'].values)\n",
    "lin_w = lin_w.reshape(85264, 1)\n",
    "dd_w = torch.Tensor(dd['weight'].values)\n",
    "dd_w = dd_w.reshape(1521, 1)\n",
    "dmhg.edges['interacts'].data['w'] = mm_w\n",
    "dmhg.edges['JC_EDGE'].data['w'] = jc_w\n",
    "dmhg.edges['LC_EDGE'].data['w'] = lc_w\n",
    "dmhg.edges['WP_EDGE'].data['w'] = wp_w\n",
    "dmhg.edges['Lin_EDGE'].data['w'] = lin_w\n",
    "dmhg.edges['influence'].data['w'] = dd_w"
   ]
  },
  {
   "cell_type": "code",
   "execution_count": null,
   "metadata": {},
   "outputs": [],
   "source": [
    "external_parameters = {'interacts':{'edge_weight':mm_w},\n",
    "                       'JC_EDGE':{'edge_weight':jc_w},\n",
    "                       'LC_EDGE':{'edge_weight':lc_w},\n",
    "                       'WP_EDGE':{'edge_weight':wp_w},\n",
    "                       'Lin_EDGE':{'edge_weight':lin_w},\n",
    "                       'influence':{'edge_weight':dd_w}}"
   ]
  },
  {
   "cell_type": "code",
   "execution_count": null,
   "metadata": {},
   "outputs": [],
   "source": [
    "dm_no_edges = g_data.create_no_edges()\n",
    "eids = np.arange(dmhg.number_of_edges(etype = etype))  \n",
    "kf_fake_edges = g_data.select_fake_edges(n2p_rate)\n",
    "kf_eids_array = g_data.get_eids()\n",
    "D_id = dmhg.edges(etype='relate')[0].numpy()"
   ]
  },
  {
   "cell_type": "code",
   "execution_count": null,
   "metadata": {},
   "outputs": [],
   "source": [
    "valid_auc_list = []\n",
    "valid_prf_list = []\n",
    "valid_prf_all_list = []\n",
    "tprs=[]\n",
    "aucs=[]\n",
    "mean_fpr=np.linspace(0,1,100)\n",
    "i_r = 0\n",
    "times = 0\n",
    "mean_precision = 0.0\n",
    "mean_recall = np.linspace(0,1,100)\n",
    "mean_average_precision = []\n",
    "vd_data_list = []\n",
    "kf = StratifiedKFold(n_splits=5, shuffle=True)\n",
    "kf.get_n_splits(kf_eids_array, D_id)\n",
    "fig = plt.figure(figsize=(6,4), dpi=100)\n",
    "for train_index, valid_index in kf.split(kf_eids_array, D_id):\n",
    "    train_auc_list = []\n",
    "    print('----------第', times + 1, '次----------')\n",
    "    times += 1\n",
    "    train_g, valid_g = g_data.build_g(valid_index, train_index)\n",
    "    train_sample, valid_sample = g_data.get_sample(train_index, valid_index, n2p_rate)\n",
    "    label, valid_label = g_data.get_label()   \n",
    "    node_features = g_data.get_feats()\n",
    "    model = Model(in_feats_num = 128, hid_feats1_num = 64, out_feats_num = 16, rel_names = dmhg.etypes)\n",
    "    train_auc = train_f(model, train_g, node_features, external_parameters, train_sample, label, 150, nn.BCELoss())\n",
    "    train_auc_list = train_auc_list + train_auc\n",
    "    train_auc_df = pd.DataFrame(train_auc_list)\n",
    "    model.eval()\n",
    "    with torch.no_grad():\n",
    "        valid_auc, v_label, v_pred = valid_f(model, train_g, node_features, external_parameters, valid_sample, valid_label)\n",
    "        valid_auc_list.append(valid_auc) \n",
    "        vd_l2p = torch.cat((v_label.unsqueeze(1), v_pred), 1)\n",
    "        if i_r==0:\n",
    "            result_pack = vd_l2p\n",
    "        else:\n",
    "            result_pack = torch.cat((result_pack, vd_l2p), axis=0)        \n",
    "        tprs, aucs, i_r = save_plot_auc(v_label, v_pred, mean_fpr, tprs, aucs, i_r)\n",
    "        vd_npl2p = vd_l2p.detach().numpy()\n",
    "        vd_data_list.append(vd_npl2p)                \n",
    "valid_auc_df = pd.DataFrame(valid_auc_list)\n",
    "print('valid : 各指标均值', list(valid_auc_df.mean()) )\n",
    "plot_auc(tprs, aucs, mean_fpr, name)\n",
    "mean_auprc, auprcs = plot_prc_curve(vd_data_list, name)\n",
    "result_df = pd.DataFrame(result_pack.numpy())\n",
    "result_df.columns = ['label','pred']\n",
    "result_path = name + '_result.csv'\n",
    "result_df.to_csv(result_path, index=False)"
   ]
  },
  {
   "cell_type": "code",
   "execution_count": null,
   "metadata": {},
   "outputs": [],
   "source": []
  },
  {
   "cell_type": "code",
   "execution_count": null,
   "metadata": {},
   "outputs": [],
   "source": []
  },
  {
   "cell_type": "code",
   "execution_count": null,
   "metadata": {},
   "outputs": [],
   "source": []
  },
  {
   "cell_type": "code",
   "execution_count": null,
   "metadata": {},
   "outputs": [],
   "source": []
  },
  {
   "cell_type": "code",
   "execution_count": null,
   "metadata": {},
   "outputs": [],
   "source": []
  },
  {
   "cell_type": "markdown",
   "metadata": {},
   "source": [
    "# "
   ]
  }
 ],
 "metadata": {
  "kernelspec": {
   "display_name": "Python 3 (ipykernel)",
   "language": "python",
   "name": "python3"
  },
  "language_info": {
   "codemirror_mode": {
    "name": "ipython",
    "version": 3
   },
   "file_extension": ".py",
   "mimetype": "text/x-python",
   "name": "python",
   "nbconvert_exporter": "python",
   "pygments_lexer": "ipython3",
   "version": "3.9.12"
  }
 },
 "nbformat": 4,
 "nbformat_minor": 4
}
