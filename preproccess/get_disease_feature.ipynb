{
 "cells": [
  {
   "cell_type": "code",
   "execution_count": null,
   "id": "9a37c127",
   "metadata": {},
   "outputs": [],
   "source": [
    "import pandas as pd  \n",
    "import numpy as np\n",
    "import os\n",
    "import random\n",
    "import networkx as nx\n",
    "from gensim.models import Word2Vec\n",
    "from node2vec import Node2Vec\n",
    "import sys\n",
    "sys.path.append(\"..\")\n",
    "from utility.deepwalk_tool import load_weighted_Graph"
   ]
  },
  {
   "cell_type": "code",
   "execution_count": null,
   "id": "9f02db1a",
   "metadata": {},
   "outputs": [],
   "source": [
    "D_feat = pd.read_csv('../data/Disbiome/disease_I_S.csv.csv')\n",
    "edge_init = pd.DataFrame(data = {'disease_A' : np.zeros(47524), 'disease_B' : np.zeros(47524), 'weight' : np.zeros(47524)})"
   ]
  },
  {
   "cell_type": "code",
   "execution_count": null,
   "id": "172165b3",
   "metadata": {},
   "outputs": [],
   "source": [
    "for i in range(D_feat.shape[0]):\n",
    "    for j in range(D_feat.shape[0]):\n",
    "        edge_init.iloc[(i*D_feat.shape[0])+j][0] = i\n",
    "        edge_init.iloc[(i*D_feat.shape[0])+j][1] = j\n",
    "for i in range(len(edge_init)):\n",
    "    D_a = edge_init.iloc[i][0]\n",
    "    D_b = edge_init.iloc[i][1]\n",
    "    edge_init.iloc[i][2] = D_feat.iloc[int(D_a)][int(D_b)]\n",
    "edge_init.to_csv('../data/Disbiome/disease_func_edge.csv', index=False)\n",
    "dataW = pd.read_csv('../data/Disbiome/disease_func_edge.csv')\n",
    "with open('../data/disbiome/Disease_func_edge.txt', 'w+', encoding = 'utf_8') as f:\n",
    "    for line in dataW.values:\n",
    "        f.write((str(int(line[0])) + '\\t' + str(int(line[1])) + '\\t' + str(line[2]) + '\\n'))"
   ]
  },
  {
   "cell_type": "code",
   "execution_count": null,
   "id": "8391ed78",
   "metadata": {},
   "outputs": [],
   "source": [
    "edge_file = '../data/disbiome/Disease_func_edge.txt'\n",
    "G = load_weighted_Graph(edge_file)\n",
    "def w_deep_walk(G, num_paths, path_length, alpha):\n",
    "    nodes = list(G.nodes())\n",
    "    transitionMatrix = getTransitionMatrix(G, nodes)\n",
    "    print(transitionMatrix)\n",
    "    sentenceList = []\n",
    "    for i in range(0, len(nodes)):\n",
    "        for j in range(0, num_paths):\n",
    "            indexList = generateSequence(i, transitionMatrix, path_length, alpha)\n",
    "            sentence = [int(nodes[tmp]) for tmp in indexList]\n",
    "            sentenceList.append(sentence)\n",
    "    return sentenceList\n",
    "def getTransitionMatrix(network, nodes):\n",
    "    matrix = np.zeros([len(nodes), len(nodes)])\n",
    "    for i in range(0, len(nodes)):\n",
    "        neighs = network.neighbors(nodes[i])\n",
    "        sums = 0\n",
    "        neighs_list = list(neighs)     \n",
    "        for neigh in neighs_list:\n",
    "            sums += network[nodes[i]][neigh]['weight']\n",
    "        for j in range(0, len(nodes)):\n",
    "            if i == j:\n",
    "                matrix[i, j] = 0\n",
    "            else:\n",
    "                if nodes[j] not in neighs_list:\n",
    "                    matrix[i, j] = 0\n",
    "                else:\n",
    "                    matrix[i, j] = network[nodes[i]][nodes[j]]['weight'] / sums   \n",
    "    return matrix\n",
    "def generateSequence(startIndex, transitionMatrix, path_length, alpha):\n",
    "    result = [startIndex]\n",
    "    current = startIndex\n",
    "    for i in range(0, path_length):\n",
    "        if random.random() < alpha:\n",
    "            nextIndex = startIndex\n",
    "        else:\n",
    "            probs = transitionMatrix[current]\n",
    "            probs /= probs.sum()\n",
    "            nextIndex = np.random.choice(len(probs), 1, p=probs)[0]\n",
    "        result.append(nextIndex)\n",
    "        current = nextIndex\n",
    "    return result"
   ]
  },
  {
   "cell_type": "code",
   "execution_count": null,
   "id": "1f56fa2a",
   "metadata": {},
   "outputs": [],
   "source": [
    "walks = w_deep_walk(G, num_paths = 1, path_length = 30, alpha=0)"
   ]
  },
  {
   "cell_type": "code",
   "execution_count": null,
   "id": "e599f114",
   "metadata": {},
   "outputs": [],
   "source": [
    "def get_embeddings(w2v_model, graph):\n",
    "    count = 0\n",
    "    invalid_word = []\n",
    "    _embeddings = {}\n",
    "    for word in graph.nodes():\n",
    "        word = int(word)\n",
    "        if word in w2v_model.wv:\n",
    "            _embeddings[word] = w2v_model.wv[word]\n",
    "        else:\n",
    "            invalid_word.append(word)\n",
    "            count += 1\n",
    "    return _embeddings\n",
    "kwargs = {'sentences':walks, 'min_count':0, 'vector_size':128, 'sg':1, 'hs':0, 'workers':3, 'window':5, 'epochs':3}\n",
    "model = Word2Vec(**kwargs)\n",
    "embeddings = get_embeddings(model, G)"
   ]
  },
  {
   "cell_type": "code",
   "execution_count": null,
   "id": "b9ca036f",
   "metadata": {},
   "outputs": [],
   "source": [
    "wdeepwalk128 = pd.DataFrame(np.zeros([D_feat.shape[0], 128]))\n",
    "for i in range(len(wdeepwalk128)):\n",
    "    if embeddings.__contains__(i):\n",
    "        wdeepwalk128.iloc[i][:] = list(embeddings[i])"
   ]
  },
  {
   "cell_type": "code",
   "execution_count": null,
   "id": "3c2b37b3",
   "metadata": {},
   "outputs": [],
   "source": [
    "wdeepwalk128.to_csv('../data/Disbiome/disease_feature.csv', index=False)"
   ]
  }
 ],
 "metadata": {
  "kernelspec": {
   "display_name": "Python 3 (ipykernel)",
   "language": "python",
   "name": "python3"
  },
  "language_info": {
   "codemirror_mode": {
    "name": "ipython",
    "version": 3
   },
   "file_extension": ".py",
   "mimetype": "text/x-python",
   "name": "python",
   "nbconvert_exporter": "python",
   "pygments_lexer": "ipython3",
   "version": "3.9.12"
  }
 },
 "nbformat": 4,
 "nbformat_minor": 5
}
